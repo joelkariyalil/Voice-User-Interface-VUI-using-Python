{
 "cells": [
  {
   "cell_type": "code",
   "execution_count": 11,
   "id": "3a73de41",
   "metadata": {},
   "outputs": [],
   "source": [
    "import os\n",
    "import time\n",
    "import subprocess\n",
    "import json\n",
    "import wolframalpha\n",
    "import requests\n",
    "import webbrowser\n",
    "import wikipedia\n",
    "import datetime\n",
    "import speech_recognition as sr\n",
    "import pyttsx3\n",
    "import pyaudio"
   ]
  },
  {
   "cell_type": "code",
   "execution_count": 12,
   "id": "3e54eb3f",
   "metadata": {},
   "outputs": [
    {
     "name": "stdout",
     "output_type": "stream",
     "text": [
      "Name your Perosonal Assistant: Joel\n",
      "LOADING  Joel !!\n"
     ]
    }
   ],
   "source": [
    "name=input(\"Name your Perosonal Assistant: \")\n",
    "print(\"LOADING \",name,\"!!\")"
   ]
  },
  {
   "cell_type": "code",
   "execution_count": 13,
   "id": "501612ed",
   "metadata": {},
   "outputs": [],
   "source": [
    "engine=pyttsx3.init('sapi5')\n",
    "voices=engine.getProperty('voices')\n",
    "engine.setProperty('voice','voices[1].id')"
   ]
  },
  {
   "cell_type": "code",
   "execution_count": 14,
   "id": "50833826",
   "metadata": {},
   "outputs": [],
   "source": [
    "def speak(text):\n",
    "    engine.say(text)\n",
    "    engine.runAndWait()"
   ]
  },
  {
   "cell_type": "code",
   "execution_count": 15,
   "id": "d73680e1",
   "metadata": {},
   "outputs": [],
   "source": [
    "def wishMe():\n",
    "    hour=datetime.datetime.now().hour\n",
    "    if hour>=0 and hour<12:\n",
    "        speak(f\"Hello, good morning {name}\")\n",
    "        print(f'Hello, good morning {name}')\n",
    "    elif hour>=12 and hour<=16:\n",
    "         speak(f\"Hello, good afternoon {name}\")\n",
    "         print(f'Hello, good afternoon {name}')\n",
    "    else:\n",
    "         speak(f\"Hello, good evening {name}\")\n",
    "         print(f'Hello, good evening {name}')"
   ]
  },
  {
   "cell_type": "code",
   "execution_count": 16,
   "id": "3b516657",
   "metadata": {},
   "outputs": [],
   "source": [
    "def takeCommand():\n",
    "    r=sr.Recognizer()\n",
    "    with sr.Microphone() as source:\n",
    "        print('I AM LISTENING')\n",
    "        audio=r.listen(source)\n",
    "        \n",
    "        try:\n",
    "            statement=r.recognize_google(audio,language='en-in')\n",
    "            print(f\"User Said: {statement}\\n\")\n",
    "        \n",
    "        except Exception as e:\n",
    "            speak('Pardon Me, Please repeat that again!')\n",
    "            return \"None\"\n",
    "        return statement"
   ]
  },
  {
   "cell_type": "code",
   "execution_count": 17,
   "id": "ac288cfe",
   "metadata": {},
   "outputs": [
    {
     "name": "stdout",
     "output_type": "stream",
     "text": [
      "Hello, good morning Joel\n"
     ]
    }
   ],
   "source": [
    "speak(f\"Loading your personal AI assistant {name}\")\n",
    "wishMe()"
   ]
  },
  {
   "cell_type": "code",
   "execution_count": null,
   "id": "eea8dfd7",
   "metadata": {},
   "outputs": [],
   "source": [
    "if __name__=='__main__':\n",
    "    while True:\n",
    "        speak(\"How can I help you?\")\n",
    "        statement=takeCommand().lower()\n",
    "        if statement==0:\n",
    "            continue\n",
    "        if \"good bye\" in statement or \"ok bye\" in statement or \"stop\" in statement:\n",
    "            speak(\"Your Personal AI Assistant is Shutting down zzzzzzzz\")\n",
    "            print(\"Your Personal AI Assistant is Shutting down zzzzzzzz\")\n",
    "            break\n",
    "            \n",
    "        if 'wikipedia' in statement:\n",
    "            speak(\"Searching Wikipedia.....\")\n",
    "            statement=statement.replace(\"wikipedia\",\" \")\n",
    "            results=wikipedia.summary(statement,sentences=3)\n",
    "            speak(\"According to wikipedia...\")\n",
    "            speak(results)\n",
    "            print(results)\n",
    "            \n",
    "        elif \"open youtube\" in statement:\n",
    "            webbrowser.open_new_tab(\"https://www.youtube.com\")\n",
    "            speak(\"Youtube is open for you\")\n",
    "            time.sleep(5)\n",
    "        \n",
    "        elif 'open google' in statement:\n",
    "            webbrowser.open_new_tab(\"https://www.google.com\")\n",
    "            speak(\"Google is open for you\")\n",
    "            time.sleep(5)\n",
    "        \n",
    "        elif 'open Lenskart' in statement:\n",
    "            webbrowser.open_new_tab(\"https://www.lenskart.com\")\n",
    "            speak(\"Lenskart is open for you\")\n",
    "            time.sleep(5)\n",
    "            \n",
    "        elif \"weather\" in statement:\n",
    "            api_key='8ef61edcf1c576d65d836254e11ea420'\n",
    "            base_url=\"https://api.openweathermap.org/data/2.5/weather?\"\n",
    "            speak(\"What is the City Name\")\n",
    "            city_name=takeCommand()\n",
    "            complete_url=base_url+\"appid = \"+api_key+\"&q=\"+city_name\n",
    "            response=request.get(complete_url)\n",
    "            res=response.json()\n",
    "            if res[\"cod\"]!=\"404\":\n",
    "                y=res[\"main\"]\n",
    "                current_temp=y[\"temp\"]\n",
    "                current_humidity=y[\"humidity\"]\n",
    "                z=res[\"weather\"]\n",
    "                weather_description=z[0][\"descriptions\"]\n",
    "                speak(\"the temperature in Kelvin Units is \"+str(current_temperature)+\"\\nhumidity in percentage is \"+str(current_humidity))\n",
    "                speak(weather_description)\n",
    "                print(\"the temperature in Kelvin Units is \"+str(current_temperature)+\"\\nhumidity in percentage is \"+str(current_humidity))\n",
    "            \n",
    "            else:\n",
    "                print(\"City not Found\")\n",
    "                speak(\"City not Found\")\n",
    "                \n",
    "        elif \"time\" in statement:\n",
    "            strtime=datetime.datetime.now().strftime(\"%H:%M:%S\")\n",
    "            speak(f\"The time is {strtime}\")\n",
    "            \n",
    "        elif \"who are you\" in statement or \"what can you do\" in statement:\n",
    "            speak(f\"I'm {name}, and I'm your personal AI Assistant, and yes ChatGPT is better than me\")\n",
    "\n",
    "        elif \"who discovered you\" in statement:\n",
    "            speak(\"I was designed by Joel Thomas Chacko\")\n",
    "            \n",
    "        elif \"open stackoverflow\" in statement:\n",
    "            webbrowser.open_new_tab(\"https://stackoverflow.com/login\")\n",
    "            speak(\"Google is open for you\")\n",
    "            time.sleep(5)\n",
    "            \n",
    "        elif \"news\" in statement:\n",
    "            news=webbrowser.open_new_tab(\"https://timesofindia.indiatimes.com/home/headlines\")\n",
    "            speak('Here are your headlines')\n",
    "            speak(news)\n",
    "            time.sleep(5)\n",
    "        \n",
    "        elif \"search\" in statement:\n",
    "            statement=statemen.replace(\"search\",\" \")\n",
    "            webbrowser.open_new_tab(\"statement\")\n",
    "            time.sleep(5)\n",
    "            \n",
    "            \n",
    "        #Wolframalpha Module    \n",
    "        elif \"ask\" in statement:\n",
    "            speak(\"I can answer your computational questions too! Try me!\")\n",
    "            question=takeCommand()\n",
    "            app_id=\"R2K75H-7ELALHR35X\"\n",
    "            client=wolframalpha.Client('R2K75H-7ELALHR35X')\n",
    "            r=client.query(question)\n",
    "            answer=next(r.results).text\n",
    "            speak(answer)\n",
    "            print(answer)\n",
    "            \n",
    "        elif \"thank you\" in statement:\n",
    "            break\n",
    "            \n",
    "        elif \"shut down\" in statement:\n",
    "            speak(\"Your PC will now Shutdown\")\n",
    "            subprocess.call(['sleep',\"/1\"])\n",
    "\n",
    "time.sleep(5)           "
   ]
  },
  {
   "cell_type": "code",
   "execution_count": null,
   "id": "66856e1f",
   "metadata": {},
   "outputs": [],
   "source": []
  }
 ],
 "metadata": {
  "kernelspec": {
   "display_name": "Python 3 (ipykernel)",
   "language": "python",
   "name": "python3"
  },
  "language_info": {
   "codemirror_mode": {
    "name": "ipython",
    "version": 3
   },
   "file_extension": ".py",
   "mimetype": "text/x-python",
   "name": "python",
   "nbconvert_exporter": "python",
   "pygments_lexer": "ipython3",
   "version": "3.9.13"
  }
 },
 "nbformat": 4,
 "nbformat_minor": 5
}
